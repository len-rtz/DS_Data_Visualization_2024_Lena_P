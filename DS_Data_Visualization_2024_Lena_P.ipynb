{
 "cells": [
  {
   "cell_type": "markdown",
   "id": "212ecaec-615f-49cd-8292-6e68b29fd91a",
   "metadata": {},
   "source": [
    "# Visual data exploration: The The Metropolitan Museum of Art NYC\n",
    "This notebook provides a visual exploration of The Metropolitan Museum of Art's Open Access Collection. We will examine the acquisition timeline, departmental distribution, artist demographics, and geographical origins of the artworks."
   ]
  },
  {
   "cell_type": "markdown",
   "id": "178dacad-4dca-4032-82de-3813dd7538d5",
   "metadata": {},
   "source": [
    "## Data Loading and Preprocessing"
   ]
  },
  {
   "cell_type": "markdown",
   "id": "a79dc711-df80-4883-86fa-f4b1ffb6cd90",
   "metadata": {},
   "source": [
    "## The Art of Acquisition: An Exploration through Time and Departments"
   ]
  },
  {
   "cell_type": "markdown",
   "id": "a82c9927-4662-4080-8ae8-e72a89f17c44",
   "metadata": {},
   "source": [
    "### Timeline Visualization"
   ]
  },
  {
   "cell_type": "markdown",
   "id": "b8d69efc-caf3-4762-9bb7-7c91f9dbf3e3",
   "metadata": {},
   "source": [
    "### Heatmap of Artworks across Departments"
   ]
  },
  {
   "cell_type": "markdown",
   "id": "0ec4400d-0fd4-44a8-b88d-dd89bd548091",
   "metadata": {},
   "source": [
    "### Stacked Area Chart for Departmental Comparison by Acquisition Date"
   ]
  },
  {
   "cell_type": "markdown",
   "id": "211cfef8-024c-4b61-85cb-1661bb38b40d",
   "metadata": {},
   "source": [
    "## Beyond the Brush: Get to Know the Artists"
   ]
  },
  {
   "cell_type": "markdown",
   "id": "2629f230-0d8b-4c4a-9722-43a9dc00f483",
   "metadata": {},
   "source": [
    "## Histogram of Artist Lifespans"
   ]
  },
  {
   "cell_type": "markdown",
   "id": "8d70870c-5e8c-45f3-8b4c-79896452be0f",
   "metadata": {},
   "source": [
    "## Pie Chart of Gender Representation"
   ]
  },
  {
   "cell_type": "markdown",
   "id": "b3d4ae64-faf0-4d6a-b93c-b498e35fbfd5",
   "metadata": {},
   "source": [
    "## Heatmap by Nationality & Highlight Status"
   ]
  },
  {
   "cell_type": "markdown",
   "id": "820f4d77-a59e-4f24-9d4d-2f1143e7f457",
   "metadata": {},
   "source": [
    "## Mapping Masterpieces: Geographical Distribution of the Art"
   ]
  },
  {
   "cell_type": "markdown",
   "id": "a1b263d2-58b2-4ae9-a831-cbf510aa9373",
   "metadata": {},
   "source": [
    "### Choropleth World Map"
   ]
  },
  {
   "cell_type": "markdown",
   "id": "e2f0cf9b-7bab-44e8-9e47-2055cd0bcd64",
   "metadata": {},
   "source": [
    "### Filterable Map by Department & Culture"
   ]
  },
  {
   "cell_type": "markdown",
   "id": "fe22305e-ffc1-4c58-9f58-c9a020eefbba",
   "metadata": {},
   "source": [
    "## Conclusion"
   ]
  },
  {
   "cell_type": "code",
   "execution_count": null,
   "id": "f75fc72c-0105-43ee-a5d6-3c98ae44bf53",
   "metadata": {},
   "outputs": [],
   "source": []
  },
  {
   "cell_type": "code",
   "execution_count": null,
   "id": "2567fce8-4517-4b27-b49d-b39165f4e7e2",
   "metadata": {},
   "outputs": [],
   "source": []
  }
 ],
 "metadata": {
  "kernelspec": {
   "display_name": "Python 3 (ipykernel)",
   "language": "python",
   "name": "python3"
  },
  "language_info": {
   "codemirror_mode": {
    "name": "ipython",
    "version": 3
   },
   "file_extension": ".py",
   "mimetype": "text/x-python",
   "name": "python",
   "nbconvert_exporter": "python",
   "pygments_lexer": "ipython3",
   "version": "3.11.5"
  }
 },
 "nbformat": 4,
 "nbformat_minor": 5
}
